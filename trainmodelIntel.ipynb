{
 "cells": [
  {
   "cell_type": "code",
   "execution_count": 4,
   "id": "cc852030-934e-4bfe-b5e5-d4e27e2636fa",
   "metadata": {},
   "outputs": [
    {
     "name": "stdout",
     "output_type": "stream",
     "text": [
      "Collecting intel-tensorflow\n",
      "  Downloading intel_tensorflow-0.0.1-py2.py3-none-any.whl (7.1 kB)\n",
      "Requirement already satisfied: pip>=10.0.1 in c:\\users\\mmmeh\\appdata\\local\\programs\\python\\python311\\lib\\site-packages (from intel-tensorflow) (23.2.1)\n",
      "Installing collected packages: intel-tensorflow\n",
      "Successfully installed intel-tensorflow-0.0.1\n",
      "Note: you may need to restart the kernel to use updated packages.\n",
      "Requirement already satisfied: keras in c:\\users\\mmmeh\\appdata\\local\\programs\\python\\python311\\lib\\site-packages (2.13.1)\n",
      "Note: you may need to restart the kernel to use updated packages.\n",
      "Requirement already satisfied: pandas in c:\\users\\mmmeh\\appdata\\local\\programs\\python\\python311\\lib\\site-packages (1.5.3)\n",
      "Requirement already satisfied: python-dateutil>=2.8.1 in c:\\users\\mmmeh\\appdata\\local\\programs\\python\\python311\\lib\\site-packages (from pandas) (2.8.2)\n",
      "Requirement already satisfied: pytz>=2020.1 in c:\\users\\mmmeh\\appdata\\local\\programs\\python\\python311\\lib\\site-packages (from pandas) (2022.7.1)\n",
      "Requirement already satisfied: numpy>=1.21.0 in c:\\users\\mmmeh\\appdata\\local\\programs\\python\\python311\\lib\\site-packages (from pandas) (1.24.2)\n",
      "Requirement already satisfied: six>=1.5 in c:\\users\\mmmeh\\appdata\\local\\programs\\python\\python311\\lib\\site-packages (from python-dateutil>=2.8.1->pandas) (1.16.0)\n",
      "Note: you may need to restart the kernel to use updated packages.\n",
      "Note: you may need to restart the kernel to use updated packages.\n"
     ]
    },
    {
     "name": "stderr",
     "output_type": "stream",
     "text": [
      "ERROR: Could not find a version that satisfies the requirement intel-numpy (from versions: none)\n",
      "ERROR: No matching distribution found for intel-numpy\n"
     ]
    },
    {
     "name": "stdout",
     "output_type": "stream",
     "text": [
      "Requirement already satisfied: tqdm in c:\\users\\mmmeh\\appdata\\local\\programs\\python\\python311\\lib\\site-packages (4.65.0)\n",
      "Requirement already satisfied: colorama in c:\\users\\mmmeh\\appdata\\local\\programs\\python\\python311\\lib\\site-packages (from tqdm) (0.4.6)\n",
      "Note: you may need to restart the kernel to use updated packages.\n",
      "Requirement already satisfied: opencv-python-headless in c:\\users\\mmmeh\\appdata\\local\\programs\\python\\python311\\lib\\site-packages (4.8.0.74)\n",
      "Requirement already satisfied: numpy>=1.21.2 in c:\\users\\mmmeh\\appdata\\local\\programs\\python\\python311\\lib\\site-packages (from opencv-python-headless) (1.24.2)\n",
      "Note: you may need to restart the kernel to use updated packages.\n"
     ]
    }
   ],
   "source": [
    "%pip install intel-tensorflow\n",
    "%pip install keras\n",
    "%pip install pandas\n",
    "%pip install intel-numpy\n",
    "%pip install tqdm\n",
    "%pip install opencv-python-headless"
   ]
  },
  {
   "cell_type": "markdown",
   "id": "426cced4",
   "metadata": {},
   "source": [
    "# oneAPI Packagaes\n",
    "\n",
    "intel-tensorflow\n",
    "\n",
    "intel-numpy\n",
    "\n",
    "opencv-python-headless"
   ]
  },
  {
   "cell_type": "code",
   "execution_count": 5,
   "id": "74bb18dd-f422-4b71-a91f-f3ba2974f90c",
   "metadata": {},
   "outputs": [
    {
     "name": "stdout",
     "output_type": "stream",
     "text": [
      "Requirement already satisfied: intel_extension_for_tensorflow in c:\\users\\mmmeh\\appdata\\local\\programs\\python\\python311\\lib\\site-packages (0.0.0.dev1)\n",
      "Note: you may need to restart the kernel to use updated packages.\n"
     ]
    }
   ],
   "source": [
    "%pip install intel_extension_for_tensorflow"
   ]
  },
  {
   "cell_type": "code",
   "execution_count": 6,
   "id": "eebeb04b-0e8e-4650-b82c-957ce41f69f5",
   "metadata": {},
   "outputs": [],
   "source": [
    "from keras.utils import to_categorical\n",
    "from keras.models import Sequential\n",
    "from keras.layers import Dense, Conv2D, Dropout, Flatten, MaxPooling2D\n",
    "import cv2\n",
    "import pandas as pd\n",
    "import numpy as np\n",
    "import os\n",
    "from tensorflow.keras.preprocessing.image import load_img"
   ]
  },
  {
   "cell_type": "code",
   "execution_count": 7,
   "id": "6522e78b-67a3-48d1-926d-8d26cbc91e75",
   "metadata": {},
   "outputs": [],
   "source": [
    "TRAIN_DIR = 'images/train'\n",
    "TEST_DIR = 'images/test'"
   ]
  },
  {
   "cell_type": "code",
   "execution_count": 8,
   "id": "06dcc9fa-b40a-4868-976e-59298cc2e5a7",
   "metadata": {},
   "outputs": [],
   "source": [
    "def createdataframe(dir):\n",
    "    image_paths = []\n",
    "    labels = []\n",
    "    for label in os.listdir(dir):\n",
    "        for imagename in os.listdir(os.path.join(dir,label)):\n",
    "            image_paths.append(os.path.join(dir,label,imagename))\n",
    "            labels.append(label)\n",
    "        print(label, \"completed\")\n",
    "    return image_paths,labels"
   ]
  },
  {
   "cell_type": "code",
   "execution_count": 9,
   "id": "51a89695-d464-49b2-8cb2-0d20c0675dfa",
   "metadata": {},
   "outputs": [
    {
     "name": "stdout",
     "output_type": "stream",
     "text": [
      "angry completed\n",
      "disgust completed\n",
      "fear completed\n",
      "happy completed\n",
      "neutral completed\n",
      "sad completed\n",
      "surprise completed\n"
     ]
    }
   ],
   "source": [
    "train = pd.DataFrame()\n",
    "train['images'], train['label'] = createdataframe(TRAIN_DIR)"
   ]
  },
  {
   "cell_type": "code",
   "execution_count": 10,
   "id": "9c6e8549-8575-4896-8626-5e448173aebc",
   "metadata": {},
   "outputs": [
    {
     "name": "stdout",
     "output_type": "stream",
     "text": [
      "                               images     label\n",
      "0            images/train\\angry\\0.jpg     angry\n",
      "1            images/train\\angry\\1.jpg     angry\n",
      "2           images/train\\angry\\10.jpg     angry\n",
      "3        images/train\\angry\\10002.jpg     angry\n",
      "4        images/train\\angry\\10016.jpg     angry\n",
      "...                               ...       ...\n",
      "28816  images/train\\surprise\\9969.jpg  surprise\n",
      "28817  images/train\\surprise\\9985.jpg  surprise\n",
      "28818  images/train\\surprise\\9990.jpg  surprise\n",
      "28819  images/train\\surprise\\9992.jpg  surprise\n",
      "28820  images/train\\surprise\\9996.jpg  surprise\n",
      "\n",
      "[28821 rows x 2 columns]\n"
     ]
    }
   ],
   "source": [
    "print(train)"
   ]
  },
  {
   "cell_type": "code",
   "execution_count": 11,
   "id": "41bdd6fc-6d85-4a64-9074-d3cf5f7b7d6d",
   "metadata": {},
   "outputs": [
    {
     "name": "stdout",
     "output_type": "stream",
     "text": [
      "angry completed\n",
      "disgust completed\n",
      "fear completed\n",
      "happy completed\n",
      "neutral completed\n",
      "sad completed\n",
      "surprise completed\n"
     ]
    }
   ],
   "source": [
    "test = pd.DataFrame()\n",
    "test['images'], test['label'] = createdataframe(TEST_DIR)"
   ]
  },
  {
   "cell_type": "code",
   "execution_count": 12,
   "id": "3aee4595-ab7f-4126-a210-1b2d70384b8c",
   "metadata": {},
   "outputs": [
    {
     "name": "stdout",
     "output_type": "stream",
     "text": [
      "                             images     label\n",
      "0       images/test\\angry\\10052.jpg     angry\n",
      "1       images/test\\angry\\10065.jpg     angry\n",
      "2       images/test\\angry\\10079.jpg     angry\n",
      "3       images/test\\angry\\10095.jpg     angry\n",
      "4       images/test\\angry\\10121.jpg     angry\n",
      "...                             ...       ...\n",
      "7061  images/test\\surprise\\9806.jpg  surprise\n",
      "7062  images/test\\surprise\\9830.jpg  surprise\n",
      "7063  images/test\\surprise\\9853.jpg  surprise\n",
      "7064  images/test\\surprise\\9878.jpg  surprise\n",
      "7065   images/test\\surprise\\993.jpg  surprise\n",
      "\n",
      "[7066 rows x 2 columns]\n",
      "0         images/test\\angry\\10052.jpg\n",
      "1         images/test\\angry\\10065.jpg\n",
      "2         images/test\\angry\\10079.jpg\n",
      "3         images/test\\angry\\10095.jpg\n",
      "4         images/test\\angry\\10121.jpg\n",
      "                    ...              \n",
      "7061    images/test\\surprise\\9806.jpg\n",
      "7062    images/test\\surprise\\9830.jpg\n",
      "7063    images/test\\surprise\\9853.jpg\n",
      "7064    images/test\\surprise\\9878.jpg\n",
      "7065     images/test\\surprise\\993.jpg\n",
      "Name: images, Length: 7066, dtype: object\n"
     ]
    }
   ],
   "source": [
    "print(test)\n",
    "print(test['images'])"
   ]
  },
  {
   "cell_type": "code",
   "execution_count": 13,
   "id": "de405d4c-2936-4e25-9176-2c1d8f0ca1db",
   "metadata": {},
   "outputs": [],
   "source": [
    "from tqdm.notebook import tqdm"
   ]
  },
  {
   "cell_type": "code",
   "execution_count": 14,
   "id": "8fc4fe90-8d6d-4d31-931a-ec426be728e1",
   "metadata": {},
   "outputs": [],
   "source": [
    "def extract_features(images):\n",
    "    features = []\n",
    "    for image in tqdm(images):\n",
    "        if os.path.isfile(image):  # Check if the path is a regular file\n",
    "            img = load_img(image, grayscale=True)\n",
    "            img = np.array(img)\n",
    "            features.append(img)\n",
    "    features = np.array(features)\n",
    "    features = features.reshape(len(features),48,48,1)\n",
    "    return features"
   ]
  },
  {
   "cell_type": "code",
   "execution_count": 15,
   "id": "b8b1fba4-043a-4686-b278-3c96bff04e2a",
   "metadata": {},
   "outputs": [
    {
     "data": {
      "application/vnd.jupyter.widget-view+json": {
       "model_id": "84800d2e8d6140ddb60159b634d8b2e1",
       "version_major": 2,
       "version_minor": 0
      },
      "text/plain": [
       "  0%|          | 0/28821 [00:00<?, ?it/s]"
      ]
     },
     "metadata": {},
     "output_type": "display_data"
    },
    {
     "name": "stderr",
     "output_type": "stream",
     "text": [
      "c:\\Users\\mmmeh\\AppData\\Local\\Programs\\Python\\Python311\\Lib\\site-packages\\keras\\src\\utils\\image_utils.py:409: UserWarning: grayscale is deprecated. Please use color_mode = \"grayscale\"\n",
      "  warnings.warn(\n"
     ]
    }
   ],
   "source": [
    "train_features = extract_features(train['images'])"
   ]
  },
  {
   "cell_type": "code",
   "execution_count": 16,
   "id": "1d663931-c5d1-4a8c-b530-8f643ed4901a",
   "metadata": {},
   "outputs": [
    {
     "data": {
      "application/vnd.jupyter.widget-view+json": {
       "model_id": "06e5a67db8f843b4aa869912948de783",
       "version_major": 2,
       "version_minor": 0
      },
      "text/plain": [
       "  0%|          | 0/7066 [00:00<?, ?it/s]"
      ]
     },
     "metadata": {},
     "output_type": "display_data"
    }
   ],
   "source": [
    "test_features = extract_features(test['images'])"
   ]
  },
  {
   "cell_type": "code",
   "execution_count": 17,
   "id": "d767abab-a49b-4a36-8e08-e6c469d36e57",
   "metadata": {},
   "outputs": [],
   "source": [
    "x_train = train_features/255.0\n",
    "x_test = test_features/255.0"
   ]
  },
  {
   "cell_type": "code",
   "execution_count": 18,
   "id": "487d50f9-6e27-47ab-bce9-bf18141b3626",
   "metadata": {},
   "outputs": [],
   "source": [
    "from sklearn.preprocessing import LabelEncoder"
   ]
  },
  {
   "cell_type": "code",
   "execution_count": 19,
   "id": "9b0b57a0-ccbc-4a39-b84e-917e80141221",
   "metadata": {},
   "outputs": [
    {
     "data": {
      "text/html": [
       "<style>#sk-container-id-1 {color: black;}#sk-container-id-1 pre{padding: 0;}#sk-container-id-1 div.sk-toggleable {background-color: white;}#sk-container-id-1 label.sk-toggleable__label {cursor: pointer;display: block;width: 100%;margin-bottom: 0;padding: 0.3em;box-sizing: border-box;text-align: center;}#sk-container-id-1 label.sk-toggleable__label-arrow:before {content: \"▸\";float: left;margin-right: 0.25em;color: #696969;}#sk-container-id-1 label.sk-toggleable__label-arrow:hover:before {color: black;}#sk-container-id-1 div.sk-estimator:hover label.sk-toggleable__label-arrow:before {color: black;}#sk-container-id-1 div.sk-toggleable__content {max-height: 0;max-width: 0;overflow: hidden;text-align: left;background-color: #f0f8ff;}#sk-container-id-1 div.sk-toggleable__content pre {margin: 0.2em;color: black;border-radius: 0.25em;background-color: #f0f8ff;}#sk-container-id-1 input.sk-toggleable__control:checked~div.sk-toggleable__content {max-height: 200px;max-width: 100%;overflow: auto;}#sk-container-id-1 input.sk-toggleable__control:checked~label.sk-toggleable__label-arrow:before {content: \"▾\";}#sk-container-id-1 div.sk-estimator input.sk-toggleable__control:checked~label.sk-toggleable__label {background-color: #d4ebff;}#sk-container-id-1 div.sk-label input.sk-toggleable__control:checked~label.sk-toggleable__label {background-color: #d4ebff;}#sk-container-id-1 input.sk-hidden--visually {border: 0;clip: rect(1px 1px 1px 1px);clip: rect(1px, 1px, 1px, 1px);height: 1px;margin: -1px;overflow: hidden;padding: 0;position: absolute;width: 1px;}#sk-container-id-1 div.sk-estimator {font-family: monospace;background-color: #f0f8ff;border: 1px dotted black;border-radius: 0.25em;box-sizing: border-box;margin-bottom: 0.5em;}#sk-container-id-1 div.sk-estimator:hover {background-color: #d4ebff;}#sk-container-id-1 div.sk-parallel-item::after {content: \"\";width: 100%;border-bottom: 1px solid gray;flex-grow: 1;}#sk-container-id-1 div.sk-label:hover label.sk-toggleable__label {background-color: #d4ebff;}#sk-container-id-1 div.sk-serial::before {content: \"\";position: absolute;border-left: 1px solid gray;box-sizing: border-box;top: 0;bottom: 0;left: 50%;z-index: 0;}#sk-container-id-1 div.sk-serial {display: flex;flex-direction: column;align-items: center;background-color: white;padding-right: 0.2em;padding-left: 0.2em;position: relative;}#sk-container-id-1 div.sk-item {position: relative;z-index: 1;}#sk-container-id-1 div.sk-parallel {display: flex;align-items: stretch;justify-content: center;background-color: white;position: relative;}#sk-container-id-1 div.sk-item::before, #sk-container-id-1 div.sk-parallel-item::before {content: \"\";position: absolute;border-left: 1px solid gray;box-sizing: border-box;top: 0;bottom: 0;left: 50%;z-index: -1;}#sk-container-id-1 div.sk-parallel-item {display: flex;flex-direction: column;z-index: 1;position: relative;background-color: white;}#sk-container-id-1 div.sk-parallel-item:first-child::after {align-self: flex-end;width: 50%;}#sk-container-id-1 div.sk-parallel-item:last-child::after {align-self: flex-start;width: 50%;}#sk-container-id-1 div.sk-parallel-item:only-child::after {width: 0;}#sk-container-id-1 div.sk-dashed-wrapped {border: 1px dashed gray;margin: 0 0.4em 0.5em 0.4em;box-sizing: border-box;padding-bottom: 0.4em;background-color: white;}#sk-container-id-1 div.sk-label label {font-family: monospace;font-weight: bold;display: inline-block;line-height: 1.2em;}#sk-container-id-1 div.sk-label-container {text-align: center;}#sk-container-id-1 div.sk-container {/* jupyter's `normalize.less` sets `[hidden] { display: none; }` but bootstrap.min.css set `[hidden] { display: none !important; }` so we also need the `!important` here to be able to override the default hidden behavior on the sphinx rendered scikit-learn.org. See: https://github.com/scikit-learn/scikit-learn/issues/21755 */display: inline-block !important;position: relative;}#sk-container-id-1 div.sk-text-repr-fallback {display: none;}</style><div id=\"sk-container-id-1\" class=\"sk-top-container\"><div class=\"sk-text-repr-fallback\"><pre>LabelEncoder()</pre><b>In a Jupyter environment, please rerun this cell to show the HTML representation or trust the notebook. <br />On GitHub, the HTML representation is unable to render, please try loading this page with nbviewer.org.</b></div><div class=\"sk-container\" hidden><div class=\"sk-item\"><div class=\"sk-estimator sk-toggleable\"><input class=\"sk-toggleable__control sk-hidden--visually\" id=\"sk-estimator-id-1\" type=\"checkbox\" checked><label for=\"sk-estimator-id-1\" class=\"sk-toggleable__label sk-toggleable__label-arrow\">LabelEncoder</label><div class=\"sk-toggleable__content\"><pre>LabelEncoder()</pre></div></div></div></div></div>"
      ],
      "text/plain": [
       "LabelEncoder()"
      ]
     },
     "execution_count": 19,
     "metadata": {},
     "output_type": "execute_result"
    }
   ],
   "source": [
    "le = LabelEncoder()\n",
    "le.fit(train['label'])"
   ]
  },
  {
   "cell_type": "code",
   "execution_count": 20,
   "id": "03919448-7a2e-4564-9af4-26960b07a765",
   "metadata": {},
   "outputs": [],
   "source": [
    "y_train = le.transform(train['label'])\n",
    "y_test = le.transform(test['label'])"
   ]
  },
  {
   "cell_type": "code",
   "execution_count": 21,
   "id": "faea2930-291a-4813-b9c5-aa5ef873aca2",
   "metadata": {},
   "outputs": [],
   "source": [
    "y_train = to_categorical(y_train,num_classes = 7)\n",
    "y_test = to_categorical(y_test,num_classes = 7)"
   ]
  },
  {
   "cell_type": "code",
   "execution_count": 22,
   "id": "842123a0-3325-4683-9223-8ee7579596cf",
   "metadata": {},
   "outputs": [],
   "source": [
    "model = Sequential()\n",
    "# convolutional layers\n",
    "model.add(Conv2D(128, kernel_size=(3,3), activation='relu', input_shape=(48,48,1)))\n",
    "model.add(MaxPooling2D(pool_size=(2,2)))\n",
    "model.add(Dropout(0.4))\n",
    "\n",
    "model.add(Conv2D(256, kernel_size=(3,3), activation='relu'))\n",
    "model.add(MaxPooling2D(pool_size=(2,2)))\n",
    "model.add(Dropout(0.4))\n",
    "\n",
    "model.add(Conv2D(512, kernel_size=(3,3), activation='relu'))\n",
    "model.add(MaxPooling2D(pool_size=(2,2)))\n",
    "model.add(Dropout(0.4))\n",
    "\n",
    "model.add(Conv2D(512, kernel_size=(3,3), activation='relu'))\n",
    "model.add(MaxPooling2D(pool_size=(2,2)))\n",
    "model.add(Dropout(0.4))\n",
    "\n",
    "model.add(Flatten())\n",
    "# fully connected layers\n",
    "model.add(Dense(512, activation='relu'))\n",
    "model.add(Dropout(0.4))\n",
    "model.add(Dense(256, activation='relu'))\n",
    "model.add(Dropout(0.3))\n",
    "# output layer\n",
    "model.add(Dense(7, activation='softmax'))"
   ]
  },
  {
   "cell_type": "code",
   "execution_count": 23,
   "id": "8b98a5d6-bb06-44d5-842c-550fd0c4a931",
   "metadata": {},
   "outputs": [],
   "source": [
    "model.compile(optimizer = 'adam', loss = 'categorical_crossentropy', metrics = 'accuracy' )"
   ]
  },
  {
   "cell_type": "code",
   "execution_count": 24,
   "id": "03de6994-1afa-4ed3-aade-d807c02710e1",
   "metadata": {},
   "outputs": [
    {
     "name": "stdout",
     "output_type": "stream",
     "text": [
      "Epoch 1/50\n",
      "226/226 [==============================] - 469s 2s/step - loss: 1.8225 - accuracy: 0.2436 - val_loss: 1.8004 - val_accuracy: 0.2620\n",
      "Epoch 2/50\n",
      "226/226 [==============================] - 465s 2s/step - loss: 1.7911 - accuracy: 0.2544 - val_loss: 1.7246 - val_accuracy: 0.2850\n",
      "Epoch 3/50\n",
      "226/226 [==============================] - 465s 2s/step - loss: 1.6876 - accuracy: 0.3142 - val_loss: 1.5461 - val_accuracy: 0.4009\n",
      "Epoch 4/50\n",
      "226/226 [==============================] - 462s 2s/step - loss: 1.5457 - accuracy: 0.3955 - val_loss: 1.4444 - val_accuracy: 0.4408\n",
      "Epoch 5/50\n",
      "226/226 [==============================] - 432s 2s/step - loss: 1.4623 - accuracy: 0.4306 - val_loss: 1.3376 - val_accuracy: 0.4881\n",
      "Epoch 6/50\n",
      "226/226 [==============================] - 440s 2s/step - loss: 1.4103 - accuracy: 0.4569 - val_loss: 1.3052 - val_accuracy: 0.5004\n",
      "Epoch 7/50\n",
      "226/226 [==============================] - 440s 2s/step - loss: 1.3740 - accuracy: 0.4705 - val_loss: 1.2690 - val_accuracy: 0.5132\n",
      "Epoch 8/50\n",
      "226/226 [==============================] - 434s 2s/step - loss: 1.3428 - accuracy: 0.4840 - val_loss: 1.2314 - val_accuracy: 0.5367\n",
      "Epoch 9/50\n",
      "226/226 [==============================] - 418s 2s/step - loss: 1.3214 - accuracy: 0.4936 - val_loss: 1.2170 - val_accuracy: 0.5367\n",
      "Epoch 10/50\n",
      "226/226 [==============================] - 450s 2s/step - loss: 1.2928 - accuracy: 0.5053 - val_loss: 1.1907 - val_accuracy: 0.5481\n",
      "Epoch 11/50\n",
      "226/226 [==============================] - 424s 2s/step - loss: 1.2713 - accuracy: 0.5149 - val_loss: 1.1728 - val_accuracy: 0.5568\n",
      "Epoch 12/50\n",
      "226/226 [==============================] - 448s 2s/step - loss: 1.2541 - accuracy: 0.5214 - val_loss: 1.1676 - val_accuracy: 0.5535\n",
      "Epoch 13/50\n",
      "226/226 [==============================] - 448s 2s/step - loss: 1.2397 - accuracy: 0.5275 - val_loss: 1.1564 - val_accuracy: 0.5601\n",
      "Epoch 14/50\n",
      "226/226 [==============================] - 440s 2s/step - loss: 1.2275 - accuracy: 0.5317 - val_loss: 1.1416 - val_accuracy: 0.5706\n",
      "Epoch 15/50\n",
      "226/226 [==============================] - 431s 2s/step - loss: 1.2093 - accuracy: 0.5396 - val_loss: 1.1470 - val_accuracy: 0.5638\n",
      "Epoch 16/50\n",
      "226/226 [==============================] - 399s 2s/step - loss: 1.2014 - accuracy: 0.5427 - val_loss: 1.1365 - val_accuracy: 0.5767\n",
      "Epoch 17/50\n",
      "226/226 [==============================] - 643s 3s/step - loss: 1.1884 - accuracy: 0.5462 - val_loss: 1.1097 - val_accuracy: 0.5801\n",
      "Epoch 18/50\n",
      "226/226 [==============================] - 620s 3s/step - loss: 1.1757 - accuracy: 0.5501 - val_loss: 1.1135 - val_accuracy: 0.5825\n",
      "Epoch 19/50\n",
      "226/226 [==============================] - 563s 2s/step - loss: 1.1624 - accuracy: 0.5588 - val_loss: 1.1047 - val_accuracy: 0.5916\n",
      "Epoch 20/50\n",
      "226/226 [==============================] - 407s 2s/step - loss: 1.1595 - accuracy: 0.5610 - val_loss: 1.1007 - val_accuracy: 0.5876\n",
      "Epoch 21/50\n",
      "226/226 [==============================] - 464s 2s/step - loss: 1.1469 - accuracy: 0.5612 - val_loss: 1.0972 - val_accuracy: 0.5835\n",
      "Epoch 22/50\n",
      "226/226 [==============================] - 424s 2s/step - loss: 1.1378 - accuracy: 0.5667 - val_loss: 1.1028 - val_accuracy: 0.5822\n",
      "Epoch 23/50\n",
      "226/226 [==============================] - 420s 2s/step - loss: 1.1318 - accuracy: 0.5743 - val_loss: 1.0983 - val_accuracy: 0.5876\n",
      "Epoch 24/50\n",
      "226/226 [==============================] - 431s 2s/step - loss: 1.1126 - accuracy: 0.5787 - val_loss: 1.0846 - val_accuracy: 0.5882\n",
      "Epoch 25/50\n",
      "226/226 [==============================] - 429s 2s/step - loss: 1.1126 - accuracy: 0.5776 - val_loss: 1.0878 - val_accuracy: 0.5993\n",
      "Epoch 26/50\n",
      "226/226 [==============================] - 414s 2s/step - loss: 1.0993 - accuracy: 0.5812 - val_loss: 1.0755 - val_accuracy: 0.5981\n",
      "Epoch 27/50\n",
      "226/226 [==============================] - 421s 2s/step - loss: 1.0965 - accuracy: 0.5863 - val_loss: 1.0716 - val_accuracy: 0.5993\n",
      "Epoch 28/50\n",
      "226/226 [==============================] - 418s 2s/step - loss: 1.0896 - accuracy: 0.5847 - val_loss: 1.0695 - val_accuracy: 0.6015\n",
      "Epoch 29/50\n",
      "226/226 [==============================] - 414s 2s/step - loss: 1.0855 - accuracy: 0.5915 - val_loss: 1.0731 - val_accuracy: 0.5972\n",
      "Epoch 30/50\n",
      "226/226 [==============================] - 373s 2s/step - loss: 1.0760 - accuracy: 0.5907 - val_loss: 1.0627 - val_accuracy: 0.6009\n",
      "Epoch 31/50\n",
      "226/226 [==============================] - 398s 2s/step - loss: 1.0708 - accuracy: 0.5919 - val_loss: 1.0609 - val_accuracy: 0.6043\n",
      "Epoch 32/50\n",
      "226/226 [==============================] - 418s 2s/step - loss: 1.0642 - accuracy: 0.5966 - val_loss: 1.0547 - val_accuracy: 0.6056\n",
      "Epoch 33/50\n",
      "226/226 [==============================] - 405s 2s/step - loss: 1.0492 - accuracy: 0.6045 - val_loss: 1.0625 - val_accuracy: 0.6001\n",
      "Epoch 34/50\n",
      "226/226 [==============================] - 399s 2s/step - loss: 1.0424 - accuracy: 0.6082 - val_loss: 1.0629 - val_accuracy: 0.6018\n",
      "Epoch 35/50\n",
      "226/226 [==============================] - 411s 2s/step - loss: 1.0416 - accuracy: 0.6059 - val_loss: 1.0575 - val_accuracy: 0.6057\n",
      "Epoch 36/50\n",
      "226/226 [==============================] - 423s 2s/step - loss: 1.0341 - accuracy: 0.6135 - val_loss: 1.0588 - val_accuracy: 0.6008\n",
      "Epoch 37/50\n",
      "226/226 [==============================] - 429s 2s/step - loss: 1.0292 - accuracy: 0.6119 - val_loss: 1.0479 - val_accuracy: 0.6084\n",
      "Epoch 38/50\n",
      "226/226 [==============================] - 461s 2s/step - loss: 1.0301 - accuracy: 0.6137 - val_loss: 1.0461 - val_accuracy: 0.6179\n",
      "Epoch 39/50\n",
      "226/226 [==============================] - 403s 2s/step - loss: 1.0142 - accuracy: 0.6147 - val_loss: 1.0493 - val_accuracy: 0.6090\n",
      "Epoch 40/50\n",
      "226/226 [==============================] - 395s 2s/step - loss: 1.0128 - accuracy: 0.6210 - val_loss: 1.0474 - val_accuracy: 0.6127\n",
      "Epoch 41/50\n",
      "226/226 [==============================] - 394s 2s/step - loss: 0.9975 - accuracy: 0.6261 - val_loss: 1.0477 - val_accuracy: 0.6078\n",
      "Epoch 42/50\n",
      "226/226 [==============================] - 391s 2s/step - loss: 0.9987 - accuracy: 0.6237 - val_loss: 1.0513 - val_accuracy: 0.6083\n",
      "Epoch 43/50\n",
      "226/226 [==============================] - 391s 2s/step - loss: 0.9953 - accuracy: 0.6241 - val_loss: 1.0471 - val_accuracy: 0.6132\n",
      "Epoch 44/50\n",
      "226/226 [==============================] - 390s 2s/step - loss: 0.9844 - accuracy: 0.6312 - val_loss: 1.0378 - val_accuracy: 0.6152\n",
      "Epoch 45/50\n",
      "226/226 [==============================] - 390s 2s/step - loss: 0.9808 - accuracy: 0.6318 - val_loss: 1.0327 - val_accuracy: 0.6155\n",
      "Epoch 46/50\n",
      "226/226 [==============================] - 391s 2s/step - loss: 0.9787 - accuracy: 0.6347 - val_loss: 1.0416 - val_accuracy: 0.6151\n",
      "Epoch 47/50\n",
      "226/226 [==============================] - 388s 2s/step - loss: 0.9689 - accuracy: 0.6378 - val_loss: 1.0438 - val_accuracy: 0.6085\n",
      "Epoch 48/50\n",
      "226/226 [==============================] - 391s 2s/step - loss: 0.9669 - accuracy: 0.6369 - val_loss: 1.0497 - val_accuracy: 0.6095\n",
      "Epoch 49/50\n",
      "226/226 [==============================] - 390s 2s/step - loss: 0.9714 - accuracy: 0.6370 - val_loss: 1.0404 - val_accuracy: 0.6165\n",
      "Epoch 50/50\n",
      "226/226 [==============================] - 399s 2s/step - loss: 0.9599 - accuracy: 0.6387 - val_loss: 1.0353 - val_accuracy: 0.6202\n"
     ]
    },
    {
     "data": {
      "text/plain": [
       "<keras.src.callbacks.History at 0x16590d0b390>"
      ]
     },
     "execution_count": 24,
     "metadata": {},
     "output_type": "execute_result"
    }
   ],
   "source": [
    "y_train_processed = y_train\n",
    "model.fit(x=x_train, y=y_train_processed, batch_size=128, epochs=50, validation_data=(x_test, y_test))"
   ]
  },
  {
   "cell_type": "code",
   "execution_count": 25,
   "id": "97813227-3654-4214-8f78-0d37883f6cce",
   "metadata": {},
   "outputs": [
    {
     "name": "stderr",
     "output_type": "stream",
     "text": [
      "c:\\Users\\mmmeh\\AppData\\Local\\Programs\\Python\\Python311\\Lib\\site-packages\\keras\\src\\engine\\training.py:3000: UserWarning: You are saving your model as an HDF5 file via `model.save()`. This file format is considered legacy. We recommend using instead the native Keras format, e.g. `model.save('my_model.keras')`.\n",
      "  saving_api.save_model(\n"
     ]
    }
   ],
   "source": [
    "model_json = model.to_json()\n",
    "with open(\"emotiondetector.json\",'w') as json_file:\n",
    "    json_file.write(model_json)\n",
    "model.save(\"emotiondetector.h5\")"
   ]
  },
  {
   "cell_type": "code",
   "execution_count": 26,
   "id": "3dddb6e5-2304-4a13-bf41-40fe064ada79",
   "metadata": {},
   "outputs": [],
   "source": [
    "from keras.models import model_from_json"
   ]
  },
  {
   "cell_type": "code",
   "execution_count": 27,
   "id": "ed7cff60-c9a6-4831-b163-a6ece2f9c8a0",
   "metadata": {},
   "outputs": [],
   "source": [
    "json_file = open(\"facialemotionmodel.json\", \"r\")\n",
    "model_json = json_file.read()\n",
    "json_file.close()\n",
    "model = model_from_json(model_json)\n",
    "model.load_weights(\"facialemotionmodel.h5\")"
   ]
  },
  {
   "cell_type": "code",
   "execution_count": 28,
   "id": "1d6ffa3b-397a-4e76-bbe0-084cee995dc8",
   "metadata": {},
   "outputs": [],
   "source": [
    "label = ['angry','disgust','fear','happy','neutral','sad','surprise']"
   ]
  },
  {
   "cell_type": "code",
   "execution_count": 29,
   "id": "7b738a63-2191-49bf-bd7c-bbe2e0f58270",
   "metadata": {},
   "outputs": [],
   "source": [
    "def ef(image):\n",
    "    img = load_img(image,grayscale =  True )\n",
    "    feature = np.array(img)\n",
    "    feature = feature.reshape(1,48,48,1)\n",
    "    return feature/255.0"
   ]
  },
  {
   "cell_type": "code",
   "execution_count": 30,
   "id": "01ccb381-585c-4487-909b-dd489c8695b5",
   "metadata": {},
   "outputs": [
    {
     "name": "stdout",
     "output_type": "stream",
     "text": [
      "original image is of sad\n"
     ]
    },
    {
     "name": "stderr",
     "output_type": "stream",
     "text": [
      "c:\\Users\\mmmeh\\AppData\\Local\\Programs\\Python\\Python311\\Lib\\site-packages\\keras\\src\\utils\\image_utils.py:409: UserWarning: grayscale is deprecated. Please use color_mode = \"grayscale\"\n",
      "  warnings.warn(\n"
     ]
    },
    {
     "name": "stdout",
     "output_type": "stream",
     "text": [
      "1/1 [==============================] - 0s 283ms/step\n",
      "model prediction is  sad\n"
     ]
    }
   ],
   "source": [
    "image = 'images/train/sad/42.jpg'\n",
    "print(\"original image is of sad\")\n",
    "img = ef(image)\n",
    "pred = model.predict(img)\n",
    "pred_label = label[pred.argmax()]\n",
    "print(\"model prediction is \",pred_label)"
   ]
  },
  {
   "cell_type": "code",
   "execution_count": 31,
   "id": "02f92510-5d66-403e-8576-893e654177c1",
   "metadata": {},
   "outputs": [],
   "source": [
    "import matplotlib.pyplot as plt\n",
    "%matplotlib inline"
   ]
  },
  {
   "cell_type": "code",
   "execution_count": 32,
   "id": "aca60a45-4251-428c-bcd4-0bc5fa5470c7",
   "metadata": {},
   "outputs": [
    {
     "name": "stdout",
     "output_type": "stream",
     "text": [
      "original image is of sad\n",
      "1/1 [==============================] - 0s 30ms/step\n",
      "model prediction is  sad\n"
     ]
    },
    {
     "name": "stderr",
     "output_type": "stream",
     "text": [
      "c:\\Users\\mmmeh\\AppData\\Local\\Programs\\Python\\Python311\\Lib\\site-packages\\keras\\src\\utils\\image_utils.py:409: UserWarning: grayscale is deprecated. Please use color_mode = \"grayscale\"\n",
      "  warnings.warn(\n"
     ]
    },
    {
     "data": {
      "text/plain": [
       "<matplotlib.image.AxesImage at 0x16590ceed50>"
      ]
     },
     "execution_count": 32,
     "metadata": {},
     "output_type": "execute_result"
    },
    {
     "data": {
      "image/png": "[encoded data removed]",
      "text/plain": [
       "<Figure size 640x480 with 1 Axes>"
      ]
     },
     "metadata": {},
     "output_type": "display_data"
    }
   ],
   "source": [
    "image = 'images/train/sad/42.jpg'\n",
    "print(\"original image is of sad\")\n",
    "img = ef(image)\n",
    "pred = model.predict(img)\n",
    "pred_label = label[pred.argmax()]\n",
    "print(\"model prediction is \",pred_label)\n",
    "plt.imshow(img.reshape(48,48),cmap='gray')"
   ]
  },
  {
   "cell_type": "code",
   "execution_count": 33,
   "id": "872652ec-5757-4fd9-b7a8-74fa645ce3d0",
   "metadata": {},
   "outputs": [
    {
     "name": "stdout",
     "output_type": "stream",
     "text": [
      "original image is of fear\n"
     ]
    },
    {
     "name": "stdout",
     "output_type": "stream",
     "text": [
      "1/1 [==============================] - 0s 34ms/step\n",
      "model prediction is  sad\n"
     ]
    },
    {
     "data": {
      "text/plain": [
       "<matplotlib.image.AxesImage at 0x165949206d0>"
      ]
     },
     "execution_count": 33,
     "metadata": {},
     "output_type": "execute_result"
    },
    {
     "data": {
      "image/png": "[encoded data removed]",
      "text/plain": [
       "<Figure size 640x480 with 1 Axes>"
      ]
     },
     "metadata": {},
     "output_type": "display_data"
    }
   ],
   "source": [
    "image = 'images/train/fear/10451.jpg'\n",
    "print(\"original image is of fear\")\n",
    "img = ef(image)\n",
    "pred = model.predict(img)\n",
    "pred_label = label[pred.argmax()]\n",
    "print(\"model prediction is \",pred_label)\n",
    "plt.imshow(img.reshape(48,48),cmap='gray')"
   ]
  },
  {
   "cell_type": "code",
   "execution_count": 34,
   "id": "3fb5c7ef-c5c4-4644-8b53-b4a05e3f8cf9",
   "metadata": {},
   "outputs": [
    {
     "name": "stdout",
     "output_type": "stream",
     "text": [
      "original image is of disgust\n",
      "1/1 [==============================] - 0s 31ms/step\n",
      "model prediction is  disgust\n"
     ]
    },
    {
     "data": {
      "text/plain": [
       "<matplotlib.image.AxesImage at 0x165949749d0>"
      ]
     },
     "execution_count": 34,
     "metadata": {},
     "output_type": "execute_result"
    },
    {
     "data": {
      "image/png": "[encoded data removed]",
      "text/plain": [
       "<Figure size 640x480 with 1 Axes>"
      ]
     },
     "metadata": {},
     "output_type": "display_data"
    }
   ],
   "source": [
    "image = 'images/train/disgust/299.jpg'\n",
    "print(\"original image is of disgust\")\n",
    "img = ef(image)\n",
    "pred = model.predict(img)\n",
    "pred_label = label[pred.argmax()]\n",
    "print(\"model prediction is \",pred_label)\n",
    "plt.imshow(img.reshape(48,48),cmap='gray')"
   ]
  },
  {
   "cell_type": "code",
   "execution_count": 35,
   "id": "9cb221d7-1afb-47cf-bebb-6a0f82d77152",
   "metadata": {},
   "outputs": [
    {
     "name": "stdout",
     "output_type": "stream",
     "text": [
      "original image is of happy\n",
      "1/1 [==============================] - 0s 34ms/step\n",
      "model prediction is  happy\n"
     ]
    },
    {
     "data": {
      "text/plain": [
       "<matplotlib.image.AxesImage at 0x165949d86d0>"
      ]
     },
     "execution_count": 35,
     "metadata": {},
     "output_type": "execute_result"
    },
    {
     "data": {
      "image/png": "[encoded data removed]",
      "text/plain": [
       "<Figure size 640x480 with 1 Axes>"
      ]
     },
     "metadata": {},
     "output_type": "display_data"
    }
   ],
   "source": [
    "image = 'images/train/happy/100.jpg'\n",
    "print(\"original image is of happy\")\n",
    "img = ef(image)\n",
    "pred = model.predict(img)\n",
    "pred_label = label[pred.argmax()]\n",
    "print(\"model prediction is \",pred_label)\n",
    "plt.imshow(img.reshape(48,48),cmap='gray')"
   ]
  },
  {
   "cell_type": "code",
   "execution_count": 36,
   "id": "0234f708-7faa-4e66-bc78-a93298e83ac2",
   "metadata": {},
   "outputs": [
    {
     "name": "stdout",
     "output_type": "stream",
     "text": [
      "original image is of surprise\n",
      "1/1 [==============================] - 0s 36ms/step\n",
      "model prediction is  surprise\n"
     ]
    },
    {
     "data": {
      "text/plain": [
       "<matplotlib.image.AxesImage at 0x165948006d0>"
      ]
     },
     "execution_count": 36,
     "metadata": {},
     "output_type": "execute_result"
    },
    {
     "data": {
      "image/png": "[encoded data removed]",
      "text/plain": [
       "<Figure size 640x480 with 1 Axes>"
      ]
     },
     "metadata": {},
     "output_type": "display_data"
    }
   ],
   "source": [
    "image = 'images/train/surprise/10080.jpg'\n",
    "print(\"original image is of surprise\")\n",
    "img = ef(image)\n",
    "pred = model.predict(img)\n",
    "pred_label = label[pred.argmax()]\n",
    "print(\"model prediction is \",pred_label)\n",
    "plt.imshow(img.reshape(48,48),cmap='gray')"
   ]
  },
  {
   "cell_type": "code",
   "execution_count": 37,
   "id": "3b0cbe01-86a6-4e3b-8636-66e7dc7385ae",
   "metadata": {},
   "outputs": [
    {
     "ename": "KeyboardInterrupt",
     "evalue": "",
     "output_type": "error",
     "traceback": [
      "\u001b[1;31m---------------------------------------------------------------------------\u001b[0m",
      "\u001b[1;31mKeyboardInterrupt\u001b[0m                         Traceback (most recent call last)",
      "Cell \u001b[1;32mIn[37], line 38\u001b[0m\n\u001b[0;32m     36\u001b[0m         cv2\u001b[39m.\u001b[39mputText(im, \u001b[39m'\u001b[39m\u001b[39m% s\u001b[39;00m\u001b[39m'\u001b[39m \u001b[39m%\u001b[39m(prediction_label), (p\u001b[39m-\u001b[39m\u001b[39m10\u001b[39m, q\u001b[39m-\u001b[39m\u001b[39m10\u001b[39m),cv2\u001b[39m.\u001b[39mFONT_HERSHEY_COMPLEX_SMALL,\u001b[39m2\u001b[39m, (\u001b[39m0\u001b[39m,\u001b[39m0\u001b[39m,\u001b[39m255\u001b[39m))\n\u001b[0;32m     37\u001b[0m     cv2\u001b[39m.\u001b[39mimshow(\u001b[39m\"\u001b[39m\u001b[39mOutput\u001b[39m\u001b[39m\"\u001b[39m,im)\n\u001b[1;32m---> 38\u001b[0m     cv2\u001b[39m.\u001b[39;49mwaitKey(\u001b[39m27\u001b[39;49m)\n\u001b[0;32m     39\u001b[0m \u001b[39mexcept\u001b[39;00m cv2\u001b[39m.\u001b[39merror:\n\u001b[0;32m     40\u001b[0m     \u001b[39mpass\u001b[39;00m\n",
      "\u001b[1;31mKeyboardInterrupt\u001b[0m: "
     ]
    }
   ],
   "source": [
    "import cv2\n",
    "from keras.models import model_from_json\n",
    "import numpy as np\n",
    "# from keras_preprocessing.image import load_img\n",
    "\n",
    "json_file = open(\"facialemotionmodel.json\", \"r\")\n",
    "model_json = json_file.read()\n",
    "json_file.close()\n",
    "model = model_from_json(model_json)\n",
    "\n",
    "model.load_weights(\"facialemotionmodel.h5\")\n",
    "haar_file=cv2.data.haarcascades + 'haarcascade_frontalface_default.xml'\n",
    "face_cascade=cv2.CascadeClassifier(haar_file)\n",
    "\n",
    "def extract_features(image):\n",
    "    feature = np.array(image)\n",
    "    feature = feature.reshape(1,48,48,1)\n",
    "    return feature/255.0\n",
    "\n",
    "webcam=cv2.VideoCapture(0)\n",
    "labels = {0 : 'angry', 1 : 'disgust', 2 : 'fear', 3 : 'happy', 4 : 'neutral', 5 : 'sad', 6 : 'surprise'}\n",
    "while True:\n",
    "    i,im=webcam.read()\n",
    "    gray=cv2.cvtColor(im,cv2.COLOR_BGR2GRAY)\n",
    "    faces=face_cascade.detectMultiScale(im,1.3,5)\n",
    "    try: \n",
    "        for (p,q,r,s) in faces:\n",
    "            image = gray[q:q+s,p:p+r]\n",
    "            cv2.rectangle(im,(p,q),(p+r,q+s),(255,0,0),2)\n",
    "            image = cv2.resize(image,(48,48))\n",
    "            img = extract_features(image)\n",
    "            pred = model.predict(img)\n",
    "            prediction_label = labels[pred.argmax()]\n",
    "            # print(\"Predicted Output:\", prediction_label)\n",
    "            # cv2.putText(im,prediction_label)\n",
    "            cv2.putText(im, '% s' %(prediction_label), (p-10, q-10),cv2.FONT_HERSHEY_COMPLEX_SMALL,2, (0,0,255))\n",
    "        cv2.imshow(\"Output\",im)\n",
    "        cv2.waitKey(27)\n",
    "    except cv2.error:\n",
    "        pass"
   ]
  }
 ],
 "metadata": {
  "kernelspec": {
   "display_name": "Python 3",
   "language": "python",
   "name": "python3"
  },
  "language_info": {
   "codemirror_mode": {
    "name": "ipython",
    "version": 3
   },
   "file_extension": ".py",
   "mimetype": "text/x-python",
   "name": "python",
   "nbconvert_exporter": "python",
   "pygments_lexer": "ipython3",
   "version": "3.11.1"
  }
 },
 "nbformat": 4,
 "nbformat_minor": 5
}
